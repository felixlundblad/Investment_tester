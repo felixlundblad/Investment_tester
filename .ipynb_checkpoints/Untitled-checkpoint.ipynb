{
 "cells": [
  {
   "cell_type": "markdown",
   "metadata": {},
   "source": [
    "# One stock tester\n",
    "Testing strategiest such as golden cross and variants of it"
   ]
  },
  {
   "cell_type": "markdown",
   "metadata": {},
   "source": [
    "## Handling imports"
   ]
  },
  {
   "cell_type": "code",
   "execution_count": 12,
   "metadata": {},
   "outputs": [],
   "source": [
    "import pandas as pd\n",
    "import matplotlib.pyplot as plt\n",
    "import datetime as dt\n",
    "from matplotlib import style\n",
    "import pandas_datareader.data as web\n",
    "import numpy as np"
   ]
  },
  {
   "cell_type": "markdown",
   "metadata": {},
   "source": [
    "## Defining start and end date and getting data from Yahoo"
   ]
  },
  {
   "cell_type": "code",
   "execution_count": 13,
   "metadata": {},
   "outputs": [],
   "source": [
    "style.use('ggplot')\n",
    "\n",
    "start = dt.datetime(2000, 1, 1)\n",
    "end = dt.datetime(2020, 1, 1)\n",
    "df = web.DataReader('^OMX', 'yahoo', start, end).drop('Volume', axis=1)"
   ]
  },
  {
   "cell_type": "markdown",
   "metadata": {},
   "source": [
    "## Defining function for testing price crossing an average"
   ]
  },
  {
   "cell_type": "code",
   "execution_count": 20,
   "metadata": {},
   "outputs": [],
   "source": [
    "def test_ma(df,\n",
    "            starting_balance=-1,\n",
    "            start_pos=200,\n",
    "            end_pos=len(df),\n",
    "            moving_average_over=200,\n",
    "            print_trades=False):\n",
    "    first_buy_at = 0\n",
    "    balance = starting_balance\n",
    "    shares = 0\n",
    "    sold_last = True\n",
    "    ma = df['Adj Close'].rolling(window=moving_average_over, min_periods=0).mean()\n",
    "    if df.iloc[start_pos]['Adj Close'] > ma[start_pos]:\n",
    "        first_buy_at = df.iloc[start_pos]['Adj Close']\n",
    "        if print_trades:\n",
    "            print('First buy at:', first_buy_at)\n",
    "        if balance == 0:\n",
    "            shares = 1\n",
    "        else:\n",
    "            shares = balance / df.iloc[start_pos]['Adj Close']\n",
    "        sold_last = False\n",
    "\n",
    "    hist = pd.DataFrame(0, dtype=float, index=df.index, columns=['Trading History'])\n",
    "\n",
    "    for i in range(start_pos, end_pos):\n",
    "        price = df.iloc[i]['Adj Close'] if df.iloc[i]['Adj Close'] != 0 else price\n",
    "        yesterday_price = df.iloc[i - 1]['Adj Close'] if df.iloc[i - 1]['Adj Close'] != 0 else yesterday_price\n",
    "        if yesterday_price < price and ma[i] <= price and sold_last:\n",
    "            if first_buy_at == 0:\n",
    "                first_buy_at = df.iloc[i]['Adj Close']\n",
    "                if print_trades:\n",
    "                    print('First buy at:', first_buy_at)\n",
    "            sold_last = False\n",
    "            if balance == -1:\n",
    "                balance = 0\n",
    "                shares = 1\n",
    "            else:\n",
    "                shares = balance / price\n",
    "                balance = 0\n",
    "            if print_trades:\n",
    "                print('Buy:', df.iloc[i])\n",
    "        elif yesterday_price > price and ma[i] >= price and balance != -1 and not sold_last:\n",
    "            sold_last = True\n",
    "            balance = shares * price\n",
    "            shares = 0\n",
    "            if print_trades:\n",
    "                print('Sell:', balance, df.iloc[i])\n",
    "        if balance != -1:\n",
    "            current_worth = balance + shares * price\n",
    "            hist['Trading History'][i] = current_worth\n",
    "    if print_trades:\n",
    "        print(balance)\n",
    "    return first_buy_at, hist"
   ]
  },
  {
   "cell_type": "markdown",
   "metadata": {},
   "source": [
    "## Defining functions for testing crossing averages"
   ]
  },
  {
   "cell_type": "code",
   "execution_count": 21,
   "metadata": {},
   "outputs": [],
   "source": [
    "def test_any_two_crossing(df,\n",
    "                          ma_main,\n",
    "                          ma_cross,\n",
    "                          starting_balance=-1,\n",
    "                          saving_per_period=0,\n",
    "                          period_length=0,\n",
    "                          start_pos=200,\n",
    "                          end_pos=len(df),\n",
    "                          print_trades=False):\n",
    "    first_buy_at = 0\n",
    "    balance = starting_balance\n",
    "    shares = 0\n",
    "    sold_last = True\n",
    "    if ma_cross[start_pos] > ma_main[start_pos]:\n",
    "        first_buy_at = df.iloc[start_pos]['Adj Close']\n",
    "        if print_trades:\n",
    "            print('First buy at:', first_buy_at)\n",
    "        if balance == -1:\n",
    "            shares = 1\n",
    "        else:\n",
    "            shares = balance / df.iloc[start_pos]['Adj Close']\n",
    "            balance = 0\n",
    "        sold_last = False\n",
    "\n",
    "    hist = pd.DataFrame(0, dtype=float, index=df.index, columns=['Trading History'])\n",
    "\n",
    "    for i in range(start_pos, end_pos):\n",
    "        price = df.iloc[i]['Adj Close'] if df.iloc[i]['Adj Close'] != 0 else price\n",
    "        if period_length != 0:\n",
    "            if i != 0 and i % period_length == 0:\n",
    "                if ma_cross[i] < ma_main[i]:\n",
    "                    balance += saving_per_period\n",
    "                else:\n",
    "                    shares += saving_per_period/price\n",
    "        crossing_today = ma_cross[i]\n",
    "        crossing_yesterday = ma_cross[i - 1]\n",
    "        if crossing_yesterday < crossing_today and ma_main[i] <= crossing_today and sold_last:\n",
    "            if first_buy_at == 0:\n",
    "                first_buy_at = df.iloc[i]['Adj Close']\n",
    "                if print_trades:\n",
    "                    print('First buy at:', first_buy_at)\n",
    "            sold_last = False\n",
    "            if balance == -1:\n",
    "                balance = 0\n",
    "                shares = 1\n",
    "            else:\n",
    "                shares = balance / price\n",
    "                balance = 0\n",
    "            if print_trades:\n",
    "                print('Buy:', df.iloc[i])\n",
    "        elif crossing_yesterday > crossing_today and ma_main[i] >= crossing_today and balance != -1 and not sold_last:\n",
    "            sold_last = True\n",
    "            balance = shares * price\n",
    "            shares = 0\n",
    "            if print_trades:\n",
    "                print('Sell:', balance, df.iloc[i])\n",
    "        if balance != -1:\n",
    "            current_worth = balance + shares * price\n",
    "            hist['Trading History'][i] = current_worth\n",
    "    if print_trades:\n",
    "        print(balance)\n",
    "    return first_buy_at, hist"
   ]
  },
  {
   "cell_type": "markdown",
   "metadata": {},
   "source": [
    "## Defining functions used to optimize a strategy"
   ]
  },
  {
   "cell_type": "code",
   "execution_count": 22,
   "metadata": {},
   "outputs": [],
   "source": [
    "def test_multiple_two_sma_crossing(df,\n",
    "                                   plotting_list,\n",
    "                                   first_buy_at=-1,\n",
    "                                   start_crossing=50,\n",
    "                                   end_crossing=51,\n",
    "                                   interval_crossing=10,\n",
    "                                   start_main=200,\n",
    "                                   end_main=201,\n",
    "                                   interval_main=10,\n",
    "                                   print_performance=False):\n",
    "    for main in range(start_main, end_main, interval_main):\n",
    "        for crossing in range(start_crossing, end_crossing, interval_crossing):\n",
    "            plotting_list.append('Trading History SMA' + str(crossing) + '/' + str(main))\n",
    "            _, df['Trading History SMA' + str(crossing) + '/' + str(main)] = \\\n",
    "                test_any_two_crossing(df,\n",
    "                                      df['Adj Close'].rolling(window=main,\n",
    "                                                              min_periods=0).mean(),\n",
    "                                      df['Adj Close'].rolling(window=crossing,\n",
    "                                                              min_periods=0).mean(),\n",
    "                                      starting_balance=first_buy_at,\n",
    "                                      start_pos=start_pos, end_pos=end_pos)\n",
    "            if print_performance:\n",
    "                print('SMA' + str(crossing) + '/' + str(main) + ' model performance:',\n",
    "                      calc_model_annual_growth(df, 'Trading History SMA' + str(crossing) + '/' + str(main)))\n",
    "\n",
    "\n",
    "def test_multiple_two_ema_crossing(df,\n",
    "                                   plotting_list,\n",
    "                                   first_buy_at=-1,\n",
    "                                   start_crossing=50,\n",
    "                                   end_crossing=51,\n",
    "                                   interval_crossing=10,\n",
    "                                   start_main=200,\n",
    "                                   end_main=201,\n",
    "                                   interval_main=10,\n",
    "                                   print_performance=False):\n",
    "    for main in range(start_main, end_main, interval_main):\n",
    "        for crossing in range(start_crossing, end_crossing, interval_crossing):\n",
    "            plotting_list.append('Trading History EMA' + str(crossing) + '/' + str(main))\n",
    "            _, df['Trading History EMA' + str(crossing) + '/' + str(main)] = \\\n",
    "                test_any_two_crossing(df,\n",
    "                                      df['Adj Close'].rolling(window=main,\n",
    "                                                              min_periods=0).mean(),\n",
    "                                      df['Adj Close'].ewm(span=crossing,\n",
    "                                                          min_periods=0).mean(),\n",
    "                                      starting_balance=first_buy_at,\n",
    "                                      start_pos=start_pos, end_pos=end_pos)\n",
    "            if print_performance:\n",
    "                print('EMA' + str(crossing) + '/' + str(main) + ' model performance:',\n",
    "                      calc_model_annual_growth(df, 'Trading History EMA' + str(crossing) + '/' + str(main)))"
   ]
  },
  {
   "cell_type": "markdown",
   "metadata": {},
   "source": [
    "## Defining function for testing buy and hold strategy"
   ]
  },
  {
   "cell_type": "code",
   "execution_count": 23,
   "metadata": {},
   "outputs": [],
   "source": [
    "def test_buy_hold(df,\n",
    "                  starting_balance=0,\n",
    "                  saving_per_period=0,\n",
    "                  period_length=0,\n",
    "                  start_pos=200,\n",
    "                  end_pos=len(df)):\n",
    "    hist = pd.DataFrame(0, dtype=float, index=df.index, columns=['Trading History'])\n",
    "    first_buy_at = df['Adj Close'].iloc[start_pos]\n",
    "    shares = starting_balance / first_buy_at\n",
    "\n",
    "    for i in range(start_pos, end_pos):\n",
    "        price = df.iloc[i]['Adj Close']\n",
    "        current_worth = shares * price\n",
    "        hist['Trading History'][i] = current_worth\n",
    "        if i != 0 and i % period_length == 0:\n",
    "            shares += saving_per_period / price\n",
    "\n",
    "    return first_buy_at, hist"
   ]
  },
  {
   "cell_type": "markdown",
   "metadata": {},
   "source": [
    "## Defining functions for calculating the annual growth of a strategy"
   ]
  },
  {
   "cell_type": "code",
   "execution_count": 24,
   "metadata": {},
   "outputs": [],
   "source": [
    "def calc_buy_hold_annual_growth(df, start_pos=200, dec=3):\n",
    "    years = (int(str(df.last_valid_index()).split('-')[0]) - int(str(df.index[start_pos]).split('-')[0]))\n",
    "    start_sum = df['Adj Close'].iloc[start_pos]\n",
    "    end_sum = df['Adj Close'][-1]\n",
    "    return round(100 * (end_sum / start_sum) ** (1 / years) - 100, dec)\n",
    "\n",
    "\n",
    "def calc_model_annual_growth(df, tag='Trading History', dec=3):\n",
    "    years = (int(str(df.last_valid_index()).split('-')[0]) - int(str(df.index[start_pos]).split('-')[0]))\n",
    "    start_sum = df[tag].iloc[df[tag].nonzero()[0][0]]\n",
    "    end_sum = df[tag][-1]\n",
    "    return round(100 * (end_sum / start_sum) ** (1 / years) - 100, dec)\n",
    "\n",
    "\n",
    "def list_all_annual_growth(df, tags, dec=3):\n",
    "    return [(tag.replace('Trading History ', ''),\n",
    "             round(calc_model_annual_growth(df, tag), dec)) for tag in tags]\n",
    "\n",
    "\n",
    "def print_all_annual_growth(df, tags, dec=3):\n",
    "    [print(tag.replace('Trading History ', '') + ':\\t',\n",
    "           round(calc_model_annual_growth(df, tag), dec), '% per year') for tag in tags]\n",
    "\n",
    "\n",
    "def print_top_list(df, org_list, length=0):\n",
    "    print('\\n' + 'Full ranking list:') if length == 0 else print('\\n' + 'Top ' + str(length) + ':')\n",
    "    top_list = list_all_annual_growth(df, org_list)\n",
    "    top_list.sort(key=lambda tup: tup[1], reverse=True)\n",
    "    [print(l[0] + ':\\t', l[1], '% per year') for l in (top_list if length == 0 else top_list[:length])]"
   ]
  },
  {
   "cell_type": "markdown",
   "metadata": {},
   "source": [
    "# The actual program"
   ]
  },
  {
   "cell_type": "markdown",
   "metadata": {},
   "source": [
    "## Prerequisits and and baselines"
   ]
  },
  {
   "cell_type": "code",
   "execution_count": 25,
   "metadata": {},
   "outputs": [
    {
     "name": "stdout",
     "output_type": "stream",
     "text": [
      "Buy hold:\t 1.124 % per year\n"
     ]
    }
   ],
   "source": [
    "start_pos = 200\n",
    "end_pos = len(df['Adj Close'])\n",
    "print('Buy hold:\\t', calc_buy_hold_annual_growth(df, start_pos), '% per year')\n",
    "plotting_list = ['Adj Close', 'SMA200', 'SMA50', 'EMA50']\n",
    "non_trading_plots = len(plotting_list)\n",
    "\n",
    "df['SMA200'] = df['Adj Close'].rolling(window=200, min_periods=0).mean()\n",
    "df['SMA50'] = df['Adj Close'].rolling(window=50, min_periods=0).mean()\n",
    "df['EMA50'] = df['Adj Close'].ewm(span=50, min_periods=0).mean()"
   ]
  },
  {
   "cell_type": "markdown",
   "metadata": {},
   "source": [
    "## Testing SMA200 trend strategy"
   ]
  },
  {
   "cell_type": "code",
   "execution_count": 26,
   "metadata": {},
   "outputs": [
    {
     "name": "stdout",
     "output_type": "stream",
     "text": [
      "SMA200:\t\t 4.641 % per year\n"
     ]
    }
   ],
   "source": [
    "first_buy_at, df['Trading History SMA200'] = test_ma(df, start_pos=start_pos, end_pos=end_pos, print_trades=False)\n",
    "print('SMA200:\\t\\t', calc_model_annual_growth(df, 'Trading History SMA200'), '% per year')"
   ]
  },
  {
   "cell_type": "markdown",
   "metadata": {},
   "source": [
    "## Testing EMA50/SMA200, SMA50/SMA200 and buy hold with saving every month"
   ]
  },
  {
   "cell_type": "code",
   "execution_count": 31,
   "metadata": {},
   "outputs": [],
   "source": [
    "plotting_list.extend(['Trading History EMA50/200', 'Trading History SMA50/200', 'Accumulate Buy Hold'])\n",
    "\n",
    "_, df['Trading History EMA50/200'] = test_any_two_crossing(df,\n",
    "                                                           df['Adj Close'].rolling(window=200,\n",
    "                                                                                   min_periods=0).mean(),\n",
    "                                                           df['Adj Close'].ewm(span=60, min_periods=0).mean(),\n",
    "                                                           starting_balance=10000, saving_per_period=10000, period_length=21)\n",
    "\n",
    "_, df['Trading History SMA50/200'] = test_any_two_crossing(df,\n",
    "                                                           df['Adj Close'].rolling(window=200,\n",
    "                                                                                   min_periods=0).mean(),\n",
    "                                                           df['Adj Close'].rolling(window=70, min_periods=0).mean(),\n",
    "                                                           starting_balance=10000, saving_per_period=10000, period_length=21)\n",
    "\n",
    "_, df['Accumulate Buy Hold'] = test_buy_hold(df, starting_balance=10000, saving_per_period=10000, period_length=21)"
   ]
  },
  {
   "cell_type": "markdown",
   "metadata": {},
   "source": [
    "## Testing multiple EMA and SMA crossings to optimize"
   ]
  },
  {
   "cell_type": "code",
   "execution_count": null,
   "metadata": {},
   "outputs": [],
   "source": [
    "test_multiple_two_ema_crossing(df, plotting_list, first_buy_at, 30, 71, 10, 200, 260, 10)\n",
    "test_multiple_two_sma_crossing(df, plotting_list, first_buy_at, 30, 71, 10, 200, 260, 10)"
   ]
  },
  {
   "cell_type": "code",
   "execution_count": 29,
   "metadata": {},
   "outputs": [
    {
     "name": "stdout",
     "output_type": "stream",
     "text": [
      "\n",
      "Top 10:\n",
      "SMA50/200:\t 37.048 % per year\n",
      "EMA50/200:\t 36.955 % per year\n",
      "Accumulate Buy Hold:\t 35.844 % per year\n"
     ]
    }
   ],
   "source": [
    "print_top_list(df, plotting_list[non_trading_plots:], 10)"
   ]
  },
  {
   "cell_type": "code",
   "execution_count": 30,
   "metadata": {},
   "outputs": [
    {
     "data": {
      "image/png": "[encoded data removed]",
      "text/plain": [
       "<Figure size 432x288 with 1 Axes>"
      ]
     },
     "metadata": {},
     "output_type": "display_data"
    }
   ],
   "source": [
    "df[plotting_list].plot()\n",
    "plt.show()\n"
   ]
  },
  {
   "cell_type": "code",
   "execution_count": null,
   "metadata": {},
   "outputs": [],
   "source": []
  }
 ],
 "metadata": {
  "kernelspec": {
   "display_name": "Python 3",
   "language": "python",
   "name": "python3"
  },
  "language_info": {
   "codemirror_mode": {
    "name": "ipython",
    "version": 3
   },
   "file_extension": ".py",
   "mimetype": "text/x-python",
   "name": "python",
   "nbconvert_exporter": "python",
   "pygments_lexer": "ipython3",
   "version": "3.6.7"
  }
 },
 "nbformat": 4,
 "nbformat_minor": 2
}
